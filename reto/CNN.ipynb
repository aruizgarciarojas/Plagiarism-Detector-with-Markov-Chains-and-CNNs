{
 "cells": [
  {
   "cell_type": "markdown",
   "metadata": {},
   "source": [
    "# Tokenizer"
   ]
  },
  {
   "cell_type": "code",
   "execution_count": 90,
   "metadata": {},
   "outputs": [],
   "source": [
    "import os\n",
    "import random \n",
    "import numpy as np \n",
    "import pandas as pd\n",
    "import matplotlib.pyplot as plt\n",
    "import tensorflow as tf\n",
    "from tensorflow.keras.preprocessing.text import Tokenizer\n",
    "from tensorflow.keras.preprocessing.sequence import pad_sequences\n",
    "from tensorflow.keras.models import Sequential\n",
    "from tensorflow.keras.layers import Embedding, LSTM, Dense, Conv1D, Flatten, Dropout, Input, GlobalMaxPooling1D, concatenate"
   ]
  },
  {
   "cell_type": "code",
   "execution_count": 91,
   "metadata": {},
   "outputs": [],
   "source": [
    "df = pd.read_csv('data.csv')"
   ]
  },
  {
   "cell_type": "code",
   "execution_count": 92,
   "metadata": {},
   "outputs": [],
   "source": [
    "def quit_space(text):\n",
    "    text = text.lower()\n",
    "    text = text.replace('\\n', ' ')\n",
    "    text = text.replace('\\t', ' ')\n",
    "    return text"
   ]
  },
  {
   "cell_type": "code",
   "execution_count": 93,
   "metadata": {},
   "outputs": [
    {
     "name": "stdout",
     "output_type": "stream",
     "text": [
      "5417\n"
     ]
    }
   ],
   "source": [
    "from sklearn.model_selection import train_test_split\n",
    "\n",
    "df['Code1'] = df['Code1'].apply(quit_space)\n",
    "df['Code2'] = df['Code2'].apply(quit_space)\n",
    "\n",
    "x_features = df[['Code1', 'Code2']]\n",
    "y_labels = df['Plagio']\n",
    "\n",
    "# Split the data into training and testing sets\n",
    "X_train, X_test, y_train, y_test = train_test_split(x_features, y_labels, test_size=0.2, random_state=42)\n",
    "\n",
    "# Tokenización y padding\n",
    "tokenizer = Tokenizer()\n",
    "tokenizer.fit_on_texts(X_train['Code1'] + X_train['Code2'])\n",
    "\n",
    "X_train_code1_sequences = tokenizer.texts_to_sequences(X_train['Code1'])\n",
    "X_train_code2_sequences = tokenizer.texts_to_sequences(X_train['Code2'])\n",
    "X_test_code1_sequences = tokenizer.texts_to_sequences(X_test['Code1'])\n",
    "X_test_code2_sequences = tokenizer.texts_to_sequences(X_test['Code2'])\n",
    "\n",
    "max_length = max(max(len(seq) for seq in X_train_code1_sequences), max(len(seq) for seq in X_train_code2_sequences))\n",
    "\n",
    "X_train_code1_padded = pad_sequences(X_train_code1_sequences, maxlen=max_length, padding='post', truncating='post')\n",
    "X_train_code2_padded = pad_sequences(X_train_code2_sequences, maxlen=max_length, padding='post', truncating='post')\n",
    "X_test_code1_padded = pad_sequences(X_test_code1_sequences, maxlen=max_length, padding='post', truncating='post')\n",
    "X_test_code2_padded = pad_sequences(X_test_code2_sequences, maxlen=max_length, padding='post', truncating='post')\n",
    "\n",
    "print(max_length)\n"
   ]
  },
  {
   "cell_type": "code",
   "execution_count": 94,
   "metadata": {},
   "outputs": [
    {
     "name": "stdout",
     "output_type": "stream",
     "text": [
      "Epoch 1/10\n",
      "\u001b[1m12/12\u001b[0m \u001b[32m━━━━━━━━━━━━━━━━━━━━\u001b[0m\u001b[37m\u001b[0m \u001b[1m81s\u001b[0m 6s/step - acc: 0.5993 - loss: 0.6195 - val_acc: 0.9563 - val_loss: 0.1772\n",
      "Epoch 2/10\n",
      "\u001b[1m12/12\u001b[0m \u001b[32m━━━━━━━━━━━━━━━━━━━━\u001b[0m\u001b[37m\u001b[0m \u001b[1m33s\u001b[0m 3s/step - acc: 0.9082 - loss: 0.3294 - val_acc: 0.9563 - val_loss: 0.1814\n",
      "Epoch 3/10\n",
      "\u001b[1m12/12\u001b[0m \u001b[32m━━━━━━━━━━━━━━━━━━━━\u001b[0m\u001b[37m\u001b[0m \u001b[1m32s\u001b[0m 3s/step - acc: 0.9288 - loss: 0.2512 - val_acc: 0.9563 - val_loss: 0.2047\n",
      "Epoch 4/10\n",
      "\u001b[1m12/12\u001b[0m \u001b[32m━━━━━━━━━━━━━━━━━━━━\u001b[0m\u001b[37m\u001b[0m \u001b[1m30s\u001b[0m 3s/step - acc: 0.9025 - loss: 0.3063 - val_acc: 0.9563 - val_loss: 0.1838\n",
      "Epoch 5/10\n",
      "\u001b[1m12/12\u001b[0m \u001b[32m━━━━━━━━━━━━━━━━━━━━\u001b[0m\u001b[37m\u001b[0m \u001b[1m35s\u001b[0m 3s/step - acc: 0.9008 - loss: 0.3077 - val_acc: 0.9563 - val_loss: 0.1829\n",
      "Epoch 6/10\n",
      "\u001b[1m12/12\u001b[0m \u001b[32m━━━━━━━━━━━━━━━━━━━━\u001b[0m\u001b[37m\u001b[0m \u001b[1m31s\u001b[0m 3s/step - acc: 0.9115 - loss: 0.2671 - val_acc: 0.9563 - val_loss: 0.1805\n",
      "Epoch 7/10\n",
      "\u001b[1m12/12\u001b[0m \u001b[32m━━━━━━━━━━━━━━━━━━━━\u001b[0m\u001b[37m\u001b[0m \u001b[1m32s\u001b[0m 3s/step - acc: 0.9130 - loss: 0.2605 - val_acc: 0.9563 - val_loss: 0.1820\n",
      "Epoch 8/10\n",
      "\u001b[1m12/12\u001b[0m \u001b[32m━━━━━━━━━━━━━━━━━━━━\u001b[0m\u001b[37m\u001b[0m \u001b[1m32s\u001b[0m 3s/step - acc: 0.9214 - loss: 0.2290 - val_acc: 0.9563 - val_loss: 0.1795\n",
      "Epoch 9/10\n",
      "\u001b[1m12/12\u001b[0m \u001b[32m━━━━━━━━━━━━━━━━━━━━\u001b[0m\u001b[37m\u001b[0m \u001b[1m40s\u001b[0m 3s/step - acc: 0.9032 - loss: 0.2448 - val_acc: 0.9563 - val_loss: 0.1785\n",
      "Epoch 10/10\n",
      "\u001b[1m12/12\u001b[0m \u001b[32m━━━━━━━━━━━━━━━━━━━━\u001b[0m\u001b[37m\u001b[0m \u001b[1m31s\u001b[0m 3s/step - acc: 0.9121 - loss: 0.2036 - val_acc: 0.9563 - val_loss: 0.1722\n"
     ]
    }
   ],
   "source": [
    "from tensorflow.keras.models import Model\n",
    "\n",
    "embedding_dim = 100\n",
    "num_filters = 64\n",
    "filter_sizes = [3, 4, 5]\n",
    "dropout_rate = 0.5\n",
    "\n",
    "\n",
    "input1 = Input(shape=(max_length,))\n",
    "input2 = Input(shape=(max_length,))\n",
    "\n",
    "embedding = Embedding(len(tokenizer.word_index) + 1, embedding_dim)\n",
    "\n",
    "conv_blocks = []\n",
    "for filter_size in filter_sizes:\n",
    "    conv = Conv1D(filters=num_filters, kernel_size=filter_size, activation='relu')\n",
    "    conv_block1 = conv(embedding(input1))\n",
    "    conv_block2 = conv(embedding(input2))\n",
    "    pool1 = GlobalMaxPooling1D()(conv_block1)\n",
    "    pool2 = GlobalMaxPooling1D()(conv_block2)\n",
    "    conv_blocks.extend([pool1, pool2])\n",
    "\n",
    "\n",
    "if len(filter_sizes) > 1:\n",
    "    merged = concatenate(conv_blocks)\n",
    "else:\n",
    "    merged = conv_blocks[0]\n",
    "\n",
    "dropout = Dropout(0.5)(merged)\n",
    "dense1 = Dense(64, activation='relu')(dropout)\n",
    "output = Dense(1, activation='sigmoid')(dense1)\n",
    "\n",
    "model = Model(inputs=[input1, input2], outputs=output)\n",
    "\n",
    "model.compile(loss='binary_crossentropy', optimizer='adam', metrics=['acc'])\n",
    "history = model.fit([X_train_code1_padded, X_train_code2_padded], y_train, epochs=10, batch_size=64, validation_data=([X_test_code1_padded, X_test_code2_padded], y_test))"
   ]
  },
  {
   "cell_type": "code",
   "execution_count": 95,
   "metadata": {},
   "outputs": [
    {
     "name": "stdout",
     "output_type": "stream",
     "text": [
      "\u001b[1m6/6\u001b[0m \u001b[32m━━━━━━━━━━━━━━━━━━━━\u001b[0m\u001b[37m\u001b[0m \u001b[1m1s\u001b[0m 211ms/step - acc: 0.9587 - loss: 0.1651\n",
      "Loss: 0.17215147614479065\n",
      "Accuracy: 0.9562841653823853\n"
     ]
    }
   ],
   "source": [
    "# Evaluat the model\n",
    "loss, accuracy = model.evaluate([X_test_code1_padded, X_test_code2_padded], y_test)\n",
    "print(\"Loss:\", loss)\n",
    "print(\"Accuracy:\", accuracy)\n"
   ]
  },
  {
   "cell_type": "code",
   "execution_count": 96,
   "metadata": {},
   "outputs": [
    {
     "name": "stdout",
     "output_type": "stream",
     "text": [
      "\u001b[1m6/6\u001b[0m \u001b[32m━━━━━━━━━━━━━━━━━━━━\u001b[0m\u001b[37m\u001b[0m \u001b[1m2s\u001b[0m 255ms/step\n",
      "Matriz de Confusión:\n",
      "[[175   0]\n",
      " [  8   0]]\n"
     ]
    }
   ],
   "source": [
    "from sklearn.metrics import confusion_matrix\n",
    "\n",
    "# Predicciones en los datos de prueba\n",
    "y_pred = model.predict([X_test_code1_padded, X_test_code2_padded])\n",
    "y_pred_classes = np.round(y_pred)\n",
    "\n",
    "# Crear la matriz de confusión\n",
    "conf_matrix = confusion_matrix(y_test, y_pred_classes)\n",
    "\n",
    "print(\"Matriz de Confusión:\")\n",
    "print(conf_matrix)\n"
   ]
  },
  {
   "cell_type": "code",
   "execution_count": 97,
   "metadata": {},
   "outputs": [
    {
     "name": "stdout",
     "output_type": "stream",
     "text": [
      "Classification Report:\n",
      "               precision    recall  f1-score   support\n",
      "\n",
      "           0       0.96      1.00      0.98       175\n",
      "           1       0.00      0.00      0.00         8\n",
      "\n",
      "    accuracy                           0.96       183\n",
      "   macro avg       0.48      0.50      0.49       183\n",
      "weighted avg       0.91      0.96      0.93       183\n",
      "\n"
     ]
    },
    {
     "name": "stderr",
     "output_type": "stream",
     "text": [
      "c:\\Users\\e1000\\anaconda3\\lib\\site-packages\\sklearn\\metrics\\_classification.py:1248: UndefinedMetricWarning: Precision is ill-defined and being set to 0.0 in labels with no predicted samples. Use `zero_division` parameter to control this behavior.\n",
      "  _warn_prf(average, modifier, msg_start, len(result))\n",
      "c:\\Users\\e1000\\anaconda3\\lib\\site-packages\\sklearn\\metrics\\_classification.py:1248: UndefinedMetricWarning: Precision and F-score are ill-defined and being set to 0.0 in labels with no predicted samples. Use `zero_division` parameter to control this behavior.\n",
      "  _warn_prf(average, modifier, msg_start, len(result))\n",
      "c:\\Users\\e1000\\anaconda3\\lib\\site-packages\\sklearn\\metrics\\_classification.py:1248: UndefinedMetricWarning: Precision and F-score are ill-defined and being set to 0.0 in labels with no predicted samples. Use `zero_division` parameter to control this behavior.\n",
      "  _warn_prf(average, modifier, msg_start, len(result))\n",
      "c:\\Users\\e1000\\anaconda3\\lib\\site-packages\\sklearn\\metrics\\_classification.py:1248: UndefinedMetricWarning: Precision and F-score are ill-defined and being set to 0.0 in labels with no predicted samples. Use `zero_division` parameter to control this behavior.\n",
      "  _warn_prf(average, modifier, msg_start, len(result))\n"
     ]
    }
   ],
   "source": [
    "import numpy as np\n",
    "from sklearn.metrics import classification_report, f1_score, recall_score, accuracy_score, precision_score\n",
    "\n",
    "# Convertir las probabilidades en clases predichas (ajusta según tu problema de clasificación)\n",
    "y_pred_test = (y_pred > 0.8).astype(\"int32\")  # Para problemas binarios\n",
    "\n",
    "# Calcular F1 y Recall\n",
    "f1 = f1_score(y_test, y_pred_test, average='macro')\n",
    "recall = recall_score(y_test, y_pred_test, average='macro')\n",
    "accuracy = accuracy_score(y_test, y_pred_test)\n",
    "precision = precision_score(y_test, y_pred_test, average='macro')\n",
    "\n",
    "# Para obtener un reporte completo\n",
    "report = classification_report(y_test, y_pred_test)\n",
    "print(\"Classification Report:\\n\", report)\n"
   ]
  },
  {
   "cell_type": "code",
   "execution_count": 98,
   "metadata": {},
   "outputs": [
    {
     "name": "stdout",
     "output_type": "stream",
     "text": [
      "F1 Score Test: 48.88%\n",
      "Recall Test: 50.00%\n",
      "Accuracy Test: 95.63%\n",
      "Precision Test: 47.81%\n"
     ]
    }
   ],
   "source": [
    "print(\"F1 Score Test: {:.2f}%\".format(f1 * 100))\n",
    "print(\"Recall Test: {:.2f}%\".format(recall * 100))\n",
    "print(\"Accuracy Test: {:.2f}%\".format(accuracy * 100))\n",
    "print(\"Precision Test: {:.2f}%\".format(precision * 100))\n",
    "\n"
   ]
  },
  {
   "cell_type": "markdown",
   "metadata": {},
   "source": [
    "TESTEANDO ANDO"
   ]
  },
  {
   "cell_type": "code",
   "execution_count": 102,
   "metadata": {},
   "outputs": [],
   "source": [
    "def es_plagio(code1, code2):\n",
    "    # Preprocesamiento de los códigos\n",
    "    # code1 = quit_space(code1)\n",
    "    # code2 = quit_space(code2)\n",
    "    \n",
    "    # Tokenización y padding\n",
    "    code1_sequence = tokenizer.texts_to_sequences([code1])\n",
    "    code2_sequence = tokenizer.texts_to_sequences([code2])\n",
    "    \n",
    "    code1_padded = pad_sequences(code1_sequence, maxlen=max_length, padding='post', truncating='post')\n",
    "    code2_padded = pad_sequences(code2_sequence, maxlen=max_length, padding='post', truncating='post')\n",
    "    \n",
    "    # Predicción del modelo\n",
    "    plagiarism_prob = model.predict([code1_padded, code2_padded])\n",
    "    print(plagiarism_prob)\n",
    "    \n",
    "    # Si la probabilidad de plagio es alta (por ejemplo, mayor que 0.5), se considera plagio\n",
    "    if plagiarism_prob > 0.2:\n",
    "        return \"Plagio detectado.\"\n",
    "    else:\n",
    "        return \"No hay plagio.\"\n",
    "\n"
   ]
  },
  {
   "cell_type": "code",
   "execution_count": 103,
   "metadata": {},
   "outputs": [
    {
     "name": "stdout",
     "output_type": "stream",
     "text": [
      "\u001b[1m1/1\u001b[0m \u001b[32m━━━━━━━━━━━━━━━━━━━━\u001b[0m\u001b[37m\u001b[0m \u001b[1m0s\u001b[0m 43ms/step\n",
      "[[0.22453178]]\n",
      "Plagio detectado.\n"
     ]
    }
   ],
   "source": [
    "code1 = \"\"\"\n",
    "public class AreaTriangulo {\n",
    "\n",
    "    public static void main(String[] args) {\n",
    "        // Declaración de variables\n",
    "        double base = 5.0;\n",
    "        double altura = 3.0;\n",
    "        double area;\n",
    "\n",
    "        // Cálculo del área\n",
    "        area = (base * altura) / 2;\n",
    "\n",
    "        // Impresión del resultado\n",
    "        System.out.println(\"El área del triángulo es: \" + area);\n",
    "    }\n",
    "}\"\"\"\n",
    "\n",
    "code2 = \"\"\" \n",
    "public class AreaTriangulo {\n",
    "\n",
    "    public static void main(String[] args) {\n",
    "        // Declaración de variables en orden inverso\n",
    "        double altura = 3.0;\n",
    "        double base = 5.0;\n",
    "        double area;\n",
    "\n",
    "        // Cálculo del área (mismo que el código 1)\n",
    "        area = (base * altura) / 2;\n",
    "\n",
    "        // Impresión del resultado (mismo que el código 1)\n",
    "        System.out.println(\"El área del triángulo es: \" + area);\n",
    "    }\n",
    "}\"\"\"\n",
    "\n",
    "# Test de la función con los códigos proporcionados\n",
    "resultado = es_plagio(code1, code2)\n",
    "print(resultado)"
   ]
  }
 ],
 "metadata": {
  "kernelspec": {
   "display_name": "Python 3",
   "language": "python",
   "name": "python3"
  },
  "language_info": {
   "codemirror_mode": {
    "name": "ipython",
    "version": 3
   },
   "file_extension": ".py",
   "mimetype": "text/x-python",
   "name": "python",
   "nbconvert_exporter": "python",
   "pygments_lexer": "ipython3",
   "version": "3.9.7"
  }
 },
 "nbformat": 4,
 "nbformat_minor": 2
}
