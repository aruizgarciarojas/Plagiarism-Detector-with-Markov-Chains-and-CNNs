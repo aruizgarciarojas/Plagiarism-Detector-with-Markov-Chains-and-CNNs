{
 "cells": [
  {
   "cell_type": "code",
   "execution_count": 627,
   "metadata": {},
   "outputs": [],
   "source": [
    "from sklearn.ensemble import RandomForestClassifier\n",
    "from sklearn.metrics import accuracy_score, precision_score, recall_score, f1_score, classification_report\n",
    "from sklearn.model_selection import train_test_split\n",
    "from tensorflow.keras.preprocessing.text import Tokenizer\n",
    "from tensorflow.keras.preprocessing.sequence import pad_sequences\n",
    "import pandas as pd\n",
    "import numpy as np"
   ]
  },
  {
   "cell_type": "code",
   "execution_count": 628,
   "metadata": {},
   "outputs": [],
   "source": [
    "df = pd.read_csv('data.csv')"
   ]
  },
  {
   "cell_type": "code",
   "execution_count": 629,
   "metadata": {},
   "outputs": [],
   "source": [
    "def quit_space(text):\n",
    "    text = text.lower()\n",
    "    text = text.replace('\\n', ' ')\n",
    "    text = text.replace('\\t', ' ')\n",
    "    return text"
   ]
  },
  {
   "cell_type": "code",
   "execution_count": 630,
   "metadata": {},
   "outputs": [
    {
     "name": "stdout",
     "output_type": "stream",
     "text": [
      "5417\n"
     ]
    }
   ],
   "source": [
    "from sklearn.model_selection import train_test_split\n",
    "\n",
    "df['Code1'] = df['Code1'].apply(quit_space)\n",
    "df['Code2'] = df['Code2'].apply(quit_space)\n",
    "\n",
    "x_features = df[['Code1', 'Code2']]\n",
    "y_labels = df['Plagio']\n",
    "\n",
    "# Split the data into training and testing sets\n",
    "X_train, X_test, y_train, y_test = train_test_split(x_features, y_labels, test_size=0.2, random_state=42)\n",
    "\n",
    "# Tokenización y padding\n",
    "tokenizer = Tokenizer()\n",
    "tokenizer.fit_on_texts(X_train['Code1'] + X_train['Code2'])\n",
    "\n",
    "X_train_code1_sequences = tokenizer.texts_to_sequences(X_train['Code1'])\n",
    "X_train_code2_sequences = tokenizer.texts_to_sequences(X_train['Code2'])\n",
    "X_test_code1_sequences = tokenizer.texts_to_sequences(X_test['Code1'])\n",
    "X_test_code2_sequences = tokenizer.texts_to_sequences(X_test['Code2'])\n",
    "\n",
    "max_length = max(max(len(seq) for seq in X_train_code1_sequences), max(len(seq) for seq in X_train_code2_sequences),\n",
    "                 max(len(seq) for seq in X_train_code1_sequences), max(len(seq) for seq in X_train_code2_sequences))\n",
    "\n",
    "# max_length = 5416\n",
    "\n",
    "X_train_code1_padded = pad_sequences(X_train_code1_sequences, maxlen=max_length)\n",
    "X_train_code2_padded = pad_sequences(X_train_code2_sequences, maxlen=max_length)\n",
    "X_test_code1_padded = pad_sequences(X_test_code1_sequences, maxlen=max_length)\n",
    "X_test_code2_padded = pad_sequences(X_test_code2_sequences, maxlen=max_length)\n",
    "\n",
    "# Sumar las secuencias de Code1 y Code2\n",
    "X_train_combined = X_train_code1_padded + X_train_code2_padded\n",
    "X_test_combined = X_test_code1_padded + X_test_code2_padded\n",
    "\n",
    "print(max_length)\n"
   ]
  },
  {
   "cell_type": "code",
   "execution_count": 631,
   "metadata": {},
   "outputs": [
    {
     "name": "stdout",
     "output_type": "stream",
     "text": [
      "Dimensión de X_train_combined: (728, 5417)\n",
      "Dimensión de X_test_combined: (183, 5417)\n"
     ]
    }
   ],
   "source": [
    "# Verificar dimensiones\n",
    "print(f'Dimensión de X_train_combined: {X_train_combined.shape}')\n",
    "print(f'Dimensión de X_test_combined: {X_test_combined.shape}')"
   ]
  },
  {
   "cell_type": "code",
   "execution_count": 632,
   "metadata": {},
   "outputs": [
    {
     "data": {
      "text/plain": [
       "RandomForestClassifier()"
      ]
     },
     "execution_count": 632,
     "metadata": {},
     "output_type": "execute_result"
    }
   ],
   "source": [
    "input_dim = max(tokenizer.word_index.values()) + 1\n",
    "classifier = RandomForestClassifier()\n",
    "classifier.fit(X_train_code1_padded + X_train_code2_padded, y_train)"
   ]
  },
  {
   "cell_type": "code",
   "execution_count": 633,
   "metadata": {},
   "outputs": [
    {
     "name": "stdout",
     "output_type": "stream",
     "text": [
      "Número de características de entrada esperadas por el clasificador: 5417\n"
     ]
    }
   ],
   "source": [
    "# Verificar si el clasificador ha sido entrenado\n",
    "print(f\"Número de características de entrada esperadas por el clasificador: {classifier.n_features_in_}\")"
   ]
  },
  {
   "cell_type": "code",
   "execution_count": 634,
   "metadata": {},
   "outputs": [
    {
     "name": "stdout",
     "output_type": "stream",
     "text": [
      "Matriz de Confusión:\n",
      "[[175   0]\n",
      " [  7   1]]\n"
     ]
    }
   ],
   "source": [
    "from sklearn.metrics import confusion_matrix\n",
    "\n",
    "# Predicciones en los datos de prueba\n",
    "y_pred = classifier.predict(X_test_combined)\n",
    "y_pred_classes = np.round(y_pred)\n",
    "\n",
    "# Crear la matriz de confusión\n",
    "conf_matrix = confusion_matrix(y_test, y_pred_classes)\n",
    "\n",
    "print(\"Matriz de Confusión:\")\n",
    "print(conf_matrix)"
   ]
  },
  {
   "cell_type": "code",
   "execution_count": 635,
   "metadata": {},
   "outputs": [
    {
     "name": "stdout",
     "output_type": "stream",
     "text": [
      "Classification Report:\n",
      "               precision    recall  f1-score   support\n",
      "\n",
      "           0       0.96      1.00      0.98       175\n",
      "           1       1.00      0.12      0.22         8\n",
      "\n",
      "    accuracy                           0.96       183\n",
      "   macro avg       0.98      0.56      0.60       183\n",
      "weighted avg       0.96      0.96      0.95       183\n",
      "\n"
     ]
    }
   ],
   "source": [
    "# Convertir las probabilidades en clases predichas\n",
    "y_pred_test = (y_pred > 0.8).astype(\"int32\") \n",
    "\n",
    "# Calcular F1 y Recall y Accuracy\n",
    "f1 = f1_score(y_test, y_pred_test, average=\"macro\")\n",
    "recall = recall_score(y_test, y_pred_test, average=\"macro\")\n",
    "accuracy = accuracy_score(y_test, y_pred_test)\n",
    "precision = precision_score(y_test, y_pred_test, average=\"macro\")\n",
    "\n",
    "# Para obtener un reporte completo\n",
    "report = classification_report(y_test, y_pred_test)\n",
    "print(\"Classification Report:\\n\", report)"
   ]
  },
  {
   "cell_type": "code",
   "execution_count": 636,
   "metadata": {},
   "outputs": [
    {
     "name": "stdout",
     "output_type": "stream",
     "text": [
      "F1 Score Test: 60.13%\n",
      "Recall Test: 56.25%\n",
      "Accuracy Test: 96.17%\n",
      "Precision Test: 98.08%\n"
     ]
    }
   ],
   "source": [
    "print(\"F1 Score Test: {:.2f}%\".format(f1 * 100))\n",
    "print(\"Recall Test: {:.2f}%\".format(recall * 100))\n",
    "print(\"Accuracy Test: {:.2f}%\".format(accuracy * 100))\n",
    "print(\"Precision Test: {:.2f}%\".format(precision * 100))\n"
   ]
  },
  {
   "cell_type": "markdown",
   "metadata": {},
   "source": [
    "TESTEANDO ANDO"
   ]
  },
  {
   "cell_type": "code",
   "execution_count": 637,
   "metadata": {},
   "outputs": [],
   "source": [
    "def es_plagio(code1, code2):\n",
    "    # Preprocesamiento de los códigos\n",
    "    code1_processed = quit_space(code1)\n",
    "    code2_processed = quit_space(code2)\n",
    "    \n",
    "    # Tokenización y padding\n",
    "    code1_sequence = tokenizer.texts_to_sequences([code1_processed])\n",
    "    code2_sequence = tokenizer.texts_to_sequences([code2_processed])\n",
    "    \n",
    "    code1_padded = pad_sequences(code1_sequence, maxlen=max_length, padding='post', truncating='post')\n",
    "    code2_padded = pad_sequences(code2_sequence, maxlen=max_length, padding='post', truncating='post')\n",
    "    \n",
    "    # Sumar las secuencias de code1 y code2\n",
    "    combined_code = code1_padded + code2_padded\n",
    "    \n",
    "    # Predicción del modelo\n",
    "    plagiarism_prob = classifier.predict_proba(combined_code)[:, 1]  # Obtener la probabilidad de la clase positiva\n",
    "    \n",
    "    # Imprimir la probabilidad de plagio\n",
    "    print(plagiarism_prob)\n",
    "    \n",
    "    # Si la probabilidad de plagio es alta (por ejemplo, mayor que 0.5), se considera plagio\n",
    "    if plagiarism_prob > 0.75:\n",
    "        return \"Plagio detectado.\"\n",
    "    else:\n",
    "        return \"No hay plagio.\""
   ]
  },
  {
   "cell_type": "code",
   "execution_count": 638,
   "metadata": {},
   "outputs": [
    {
     "name": "stdout",
     "output_type": "stream",
     "text": [
      "[0.77]\n",
      "Plagio detectado.\n"
     ]
    }
   ],
   "source": [
    "# Ejemplo de uso\n",
    "code1 = \"\"\"public class AreaTriangulo {\n",
    "\n",
    "    public static void main(String[] args) {\n",
    "        // Declaración de variables en orden inverso\n",
    "        double altura = 3.0;\n",
    "        double base = 5.0;\n",
    "        double area;\n",
    "\n",
    "        // Cálculo del área (mismo que el código 1)\n",
    "        area = (base * altura) / 2;\n",
    "\n",
    "        // Impresión del resultado (mismo que el código 1)\n",
    "        System.out.println(\"El área del triángulo es: \" + area);\n",
    "    }\n",
    "}\"\"\"\n",
    "\n",
    "\n",
    "code2 = \"\"\"public class AreaTriangulo {\n",
    "\n",
    "    public static void main(String[] args) {\n",
    "        // Declaración de variables\n",
    "        double base = 5.0;\n",
    "        double altura = 3.0;\n",
    "        double area;\n",
    "\n",
    "        // Cálculo del área\n",
    "        area = (base * altura) / 2;\n",
    "\n",
    "        // Impresión del resultado\n",
    "        System.out.println(\"El área del triángulo es: \" + area);\n",
    "    }\n",
    "}\"\"\"\n",
    "\n",
    "resultado = es_plagio(code1, code2)\n",
    "print(resultado)\n"
   ]
  }
 ],
 "metadata": {
  "kernelspec": {
   "display_name": "base",
   "language": "python",
   "name": "python3"
  },
  "language_info": {
   "codemirror_mode": {
    "name": "ipython",
    "version": 3
   },
   "file_extension": ".py",
   "mimetype": "text/x-python",
   "name": "python",
   "nbconvert_exporter": "python",
   "pygments_lexer": "ipython3",
   "version": "3.9.7"
  }
 },
 "nbformat": 4,
 "nbformat_minor": 2
}
