{
 "cells": [
  {
   "cell_type": "markdown",
   "metadata": {},
   "source": [
    "# Tokenizer"
   ]
  },
  {
   "cell_type": "code",
   "execution_count": null,
   "metadata": {},
   "outputs": [],
   "source": [
    "import os\n",
    "import random \n",
    "import numpy as np \n",
    "import pandas as pd\n",
    "import matplotlib.pyplot as plt\n",
    "import tensorflow as tf\n",
    "from tensorflow.keras.preprocessing.text import Tokenizer\n",
    "from tensorflow.keras.preprocessing.sequence import pad_sequences\n",
    "from tensorflow.keras.models import Sequential\n",
    "from tensorflow.keras.layers import Embedding, LSTM, Dense, Conv1D, Flatten, Dropout, Input, GlobalMaxPooling1D, concatenate"
   ]
  },
  {
   "cell_type": "code",
   "execution_count": null,
   "metadata": {},
   "outputs": [],
   "source": [
    "df = pd.read_csv('data.csv')"
   ]
  },
  {
   "cell_type": "code",
   "execution_count": null,
   "metadata": {},
   "outputs": [],
   "source": [
    "def quit_space(text):\n",
    "    text = text.lower()\n",
    "    text = text.replace('\\n', ' ')\n",
    "    text = text.replace('\\t', ' ')\n",
    "    return text"
   ]
  },
  {
   "cell_type": "code",
   "execution_count": null,
   "metadata": {},
   "outputs": [],
   "source": [
    "from sklearn.model_selection import train_test_split\n",
    "\n",
    "df['Code1'] = df['Code1'].apply(quit_space)\n",
    "df['Code2'] = df['Code2'].apply(quit_space)\n",
    "\n",
    "x_features = df[['Code1', 'Code2']]\n",
    "y_labels = df['Plagio']\n",
    "\n",
    "# Split the data into training and testing sets\n",
    "X_train, X_test, y_train, y_test = train_test_split(x_features, y_labels, test_size=0.2, random_state=42)\n",
    "\n",
    "# Tokenización y padding\n",
    "tokenizer = Tokenizer()\n",
    "tokenizer.fit_on_texts(X_train['Code1'] + X_train['Code2'])\n",
    "\n",
    "X_train_code1_sequences = tokenizer.texts_to_sequences(X_train['Code1'])\n",
    "X_train_code2_sequences = tokenizer.texts_to_sequences(X_train['Code2'])\n",
    "X_test_code1_sequences = tokenizer.texts_to_sequences(X_test['Code1'])\n",
    "X_test_code2_sequences = tokenizer.texts_to_sequences(X_test['Code2'])\n",
    "\n",
    "max_length = max(max(len(seq) for seq in X_train_code1_sequences), max(len(seq) for seq in X_train_code2_sequences))\n",
    "\n",
    "X_train_code1_padded = pad_sequences(X_train_code1_sequences, maxlen=max_length, padding='post', truncating='post')\n",
    "X_train_code2_padded = pad_sequences(X_train_code2_sequences, maxlen=max_length, padding='post', truncating='post')\n",
    "X_test_code1_padded = pad_sequences(X_test_code1_sequences, maxlen=max_length, padding='post', truncating='post')\n",
    "X_test_code2_padded = pad_sequences(X_test_code2_sequences, maxlen=max_length, padding='post', truncating='post')\n",
    "\n",
    "print(max_length)\n"
   ]
  },
  {
   "cell_type": "code",
   "execution_count": null,
   "metadata": {},
   "outputs": [],
   "source": [
    "from tensorflow.keras.models import Model\n",
    "\n",
    "embedding_dim = 100\n",
    "num_filters = 64\n",
    "filter_sizes = [3, 4, 5]\n",
    "dropout_rate = 0.5\n",
    "\n",
    "\n",
    "input1 = Input(shape=(max_length,))\n",
    "input2 = Input(shape=(max_length,))\n",
    "\n",
    "embedding = Embedding(len(tokenizer.word_index) + 1, embedding_dim)\n",
    "\n",
    "conv_blocks = []\n",
    "for filter_size in filter_sizes:\n",
    "    conv = Conv1D(filters=num_filters, kernel_size=filter_size, activation='relu')\n",
    "    conv_block1 = conv(embedding(input1))\n",
    "    conv_block2 = conv(embedding(input2))\n",
    "    pool1 = GlobalMaxPooling1D()(conv_block1)\n",
    "    pool2 = GlobalMaxPooling1D()(conv_block2)\n",
    "    conv_blocks.extend([pool1, pool2])\n",
    "\n",
    "\n",
    "if len(filter_sizes) > 1:\n",
    "    merged = concatenate(conv_blocks)\n",
    "else:\n",
    "    merged = conv_blocks[0]\n",
    "\n",
    "dropout = Dropout(0.5)(merged)\n",
    "dense1 = Dense(64, activation='relu')(dropout)\n",
    "output = Dense(1, activation='sigmoid')(dense1)\n",
    "\n",
    "model = Model(inputs=[input1, input2], outputs=output)\n",
    "\n",
    "model.compile(loss='binary_crossentropy', optimizer='adam', metrics=['acc'])\n",
    "history = model.fit([X_train_code1_padded, X_train_code2_padded], y_train, epochs=10, batch_size=64, validation_data=([X_test_code1_padded, X_test_code2_padded], y_test))"
   ]
  },
  {
   "cell_type": "code",
   "execution_count": null,
   "metadata": {},
   "outputs": [],
   "source": [
    "# # Train the model\n",
    "loss, accuracy = model.evaluate([X_test_code1_padded, X_test_code2_padded], y_test)\n",
    "print(\"Loss:\", loss)\n",
    "print(\"Accuracy:\", accuracy)\n"
   ]
  },
  {
   "cell_type": "code",
   "execution_count": null,
   "metadata": {},
   "outputs": [],
   "source": [
    "from sklearn.metrics import confusion_matrix\n",
    "\n",
    "# Predicciones en los datos de prueba\n",
    "y_pred = model.predict([X_test_code1_padded, X_test_code2_padded])\n",
    "y_pred_classes = np.round(y_pred)\n",
    "\n",
    "# Crear la matriz de confusión\n",
    "conf_matrix = confusion_matrix(y_test, y_pred_classes)\n",
    "\n",
    "print(\"Matriz de Confusión:\")\n",
    "print(conf_matrix)\n"
   ]
  },
  {
   "cell_type": "code",
   "execution_count": null,
   "metadata": {},
   "outputs": [],
   "source": [
    "import numpy as np\n",
    "from sklearn.metrics import classification_report, f1_score, recall_score\n",
    "\n",
    "# Convertir las probabilidades en clases predichas (ajusta según tu problema de clasificación)\n",
    "y_pred_test = (y_pred > 0.5).astype(\"int32\")  # Para problemas binarios\n",
    "\n",
    "# Calcular F1 y Recall\n",
    "f1 = f1_score(y_test, y_pred_test)\n",
    "recall = recall_score(y_test, y_pred_test)\n",
    "\n",
    "# Para obtener un reporte completo\n",
    "report = classification_report(y_test, y_pred_test)\n",
    "print(\"Classification Report:\\n\", report)\n"
   ]
  },
  {
   "cell_type": "code",
   "execution_count": null,
   "metadata": {},
   "outputs": [],
   "source": [
    "# Calcular F1 y Recall para el conjunto de prueba con promedio 'macro'\n",
    "f1 = f1_score(y_test, y_pred_test, average='macro')\n",
    "recall = recall_score(y_test, y_pred_test, average='macro')\n",
    "\n",
    "# Imprimir las métricas\n",
    "print(\"Macro F1 Score:\", f1)\n",
    "print(\"Macro Recall:\", recall)\n"
   ]
  }
 ],
 "metadata": {
  "kernelspec": {
   "display_name": "Python 3",
   "language": "python",
   "name": "python3"
  },
  "language_info": {
   "codemirror_mode": {
    "name": "ipython",
    "version": 3
   },
   "file_extension": ".py",
   "mimetype": "text/x-python",
   "name": "python",
   "nbconvert_exporter": "python",
   "pygments_lexer": "ipython3",
   "version": "3.11.9"
  }
 },
 "nbformat": 4,
 "nbformat_minor": 2
}
